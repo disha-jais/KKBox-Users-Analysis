{
 "cells": [
  {
   "cell_type": "markdown",
   "id": "e8bd79c3-7f9d-4cbe-bdb3-619c17bf47ba",
   "metadata": {},
   "source": [
    "## Cracking the Code: Why KKBox Users Churn 🔍\n",
    "\n",
    "Understanding why users leave a platform is crucial for any business, especially in subscription-based services like KKBox. By analyzing user churn, we aim to uncover actionable insights that can help KKBox improve retention, identify high-churn demographics or regions, and enhance the overall customer experience.\n",
    "\n",
    "### 🎯 Goal of the Analysis\n",
    "\n",
    "- Identify key factors contributing to user churn  \n",
    "- Provide actionable insights to reduce churn and increase retention  \n",
    "- Uncover patterns across demographics, regions, and registration methods\n"
   ]
  },
  {
   "cell_type": "markdown",
   "id": "8cfe8380-c677-4fa4-8188-73f693594c2a",
   "metadata": {},
   "source": [
    "## Loading and Inspecting the Data 📂\n",
    "\n",
    "First, we load the dataset that contains information about user churn. Understanding the structure of this data helps us assess its quality and determine what kinds of insights we can extract.\n",
    "\n",
    "### Key Columns in the Dataset:\n",
    "- `msno`: Unique user ID  \n",
    "- `is_churn`: Whether the user has churned (1) or not (0)  \n",
    "- Additional demographic and registration details for each user\n",
    "\n",
    "Before diving into analysis, we will also check:\n",
    "- Missing values❓\n",
    "- Data types  \n",
    "- Overall structure of the dataset\n",
    "\n"
   ]
  },
  {
   "cell_type": "code",
   "execution_count": 7,
   "id": "d54fd650-7ffb-481d-a309-3ebf920424c7",
   "metadata": {},
   "outputs": [
    {
     "name": "stdout",
     "output_type": "stream",
     "text": [
      "🔹 First 5 Rows:\n"
     ]
    },
    {
     "data": {
      "text/html": [
       "<div>\n",
       "<style scoped>\n",
       "    .dataframe tbody tr th:only-of-type {\n",
       "        vertical-align: middle;\n",
       "    }\n",
       "\n",
       "    .dataframe tbody tr th {\n",
       "        vertical-align: top;\n",
       "    }\n",
       "\n",
       "    .dataframe thead th {\n",
       "        text-align: right;\n",
       "    }\n",
       "</style>\n",
       "<table border=\"1\" class=\"dataframe\">\n",
       "  <thead>\n",
       "    <tr style=\"text-align: right;\">\n",
       "      <th></th>\n",
       "      <th>msno</th>\n",
       "      <th>is_churn</th>\n",
       "    </tr>\n",
       "  </thead>\n",
       "  <tbody>\n",
       "    <tr>\n",
       "      <th>0</th>\n",
       "      <td>ugx0CjOMzazClkFzU2xasmDZaoIqOUAZPsH1q0teWCg=</td>\n",
       "      <td>1</td>\n",
       "    </tr>\n",
       "    <tr>\n",
       "      <th>1</th>\n",
       "      <td>f/NmvEzHfhINFEYZTR05prUdr+E+3+oewvweYz9cCQE=</td>\n",
       "      <td>1</td>\n",
       "    </tr>\n",
       "    <tr>\n",
       "      <th>2</th>\n",
       "      <td>zLo9f73nGGT1p21ltZC3ChiRnAVvgibMyazbCxvWPcg=</td>\n",
       "      <td>1</td>\n",
       "    </tr>\n",
       "    <tr>\n",
       "      <th>3</th>\n",
       "      <td>8iF/+8HY8lJKFrTc7iR9ZYGCG2Ecrogbc2Vy5YhsfhQ=</td>\n",
       "      <td>1</td>\n",
       "    </tr>\n",
       "    <tr>\n",
       "      <th>4</th>\n",
       "      <td>K6fja4+jmoZ5xG6BypqX80Uw/XKpMgrEMdG2edFOxnA=</td>\n",
       "      <td>1</td>\n",
       "    </tr>\n",
       "  </tbody>\n",
       "</table>\n",
       "</div>"
      ],
      "text/plain": [
       "                                           msno  is_churn\n",
       "0  ugx0CjOMzazClkFzU2xasmDZaoIqOUAZPsH1q0teWCg=         1\n",
       "1  f/NmvEzHfhINFEYZTR05prUdr+E+3+oewvweYz9cCQE=         1\n",
       "2  zLo9f73nGGT1p21ltZC3ChiRnAVvgibMyazbCxvWPcg=         1\n",
       "3  8iF/+8HY8lJKFrTc7iR9ZYGCG2Ecrogbc2Vy5YhsfhQ=         1\n",
       "4  K6fja4+jmoZ5xG6BypqX80Uw/XKpMgrEMdG2edFOxnA=         1"
      ]
     },
     "metadata": {},
     "output_type": "display_data"
    },
    {
     "name": "stdout",
     "output_type": "stream",
     "text": [
      "\n",
      "🔹 DataFrame Info:\n",
      "<class 'pandas.core.frame.DataFrame'>\n",
      "RangeIndex: 970960 entries, 0 to 970959\n",
      "Data columns (total 2 columns):\n",
      " #   Column    Non-Null Count   Dtype \n",
      "---  ------    --------------   ----- \n",
      " 0   msno      970960 non-null  object\n",
      " 1   is_churn  970960 non-null  int64 \n",
      "dtypes: int64(1), object(1)\n",
      "memory usage: 14.8+ MB\n",
      "\n",
      "🔹 Dataset Shape: (970960, 2)\n",
      "\n",
      "🔹 Churn Value Distribution:\n",
      "is_churn\n",
      "0    883630\n",
      "1     87330\n",
      "Name: count, dtype: int64\n"
     ]
    }
   ],
   "source": [
    "import pandas as pd\n",
    "\n",
    "# Load the churn training dataset from the data folder\n",
    "train_df = pd.read_csv(\"data/train_v2.csv\")\n",
    "\n",
    "# Preview the first five rows\n",
    "print(\"🔹 First 5 Rows:\")\n",
    "display(train_df.head())\n",
    "\n",
    "# Overview of columns, data types, and missing values\n",
    "print(\"\\n🔹 DataFrame Info:\")\n",
    "train_df.info()\n",
    "\n",
    "# Shape of the dataset (rows, columns)\n",
    "print(\"\\n🔹 Dataset Shape:\", train_df.shape)\n",
    "\n",
    "# Check unique churn values and their counts\n",
    "print(\"\\n🔹 Churn Value Distribution:\")\n",
    "print(train_df['is_churn'].value_counts())\n",
    "\n"
   ]
  },
  {
   "cell_type": "markdown",
   "id": "986564c5-2b05-4a4b-8944-5256507efcf5",
   "metadata": {},
   "source": [
    "### Dataset Overview 📊\n",
    "\n",
    "- **Number of Rows and Columns**: The dataset contains **X rows** and **Y columns**.\n",
    "- **Key Columns**: \n",
    "  - `msno` – unique user ID  \n",
    "  - `is_churn` – target variable indicating churn (1 = churned, 0 = retained)  \n",
    "  - Other columns include demographic and registration details\n",
    "- **Missing Values**: We will check for missing data and handle it appropriately during preprocessing.\n",
    "\n"
   ]
  },
  {
   "cell_type": "markdown",
   "id": "46369623-e2e5-41ca-a985-40490f34a5da",
   "metadata": {},
   "source": [
    "## Loading User Demographic Data 🧑‍💻\n",
    "\n",
    "Next, we load the `members` dataset, which contains important demographic information about each user—such as age, gender, and city.\n",
    "\n",
    "This data will be merged with the churn dataset to enrich our analysis and help us understand how user attributes may influence churn behavior.\n",
    "\n",
    "Let’s preview the first few rows of the `members` dataset to understand its structure."
   ]
  },
  {
   "cell_type": "code",
   "execution_count": 9,
   "id": "b111bcdf-8a1e-424a-922c-970607e63339",
   "metadata": {},
   "outputs": [
    {
     "name": "stdout",
     "output_type": "stream",
     "text": [
      "🔹 First 5 Rows of User Demographics:\n"
     ]
    },
    {
     "data": {
      "text/html": [
       "<div>\n",
       "<style scoped>\n",
       "    .dataframe tbody tr th:only-of-type {\n",
       "        vertical-align: middle;\n",
       "    }\n",
       "\n",
       "    .dataframe tbody tr th {\n",
       "        vertical-align: top;\n",
       "    }\n",
       "\n",
       "    .dataframe thead th {\n",
       "        text-align: right;\n",
       "    }\n",
       "</style>\n",
       "<table border=\"1\" class=\"dataframe\">\n",
       "  <thead>\n",
       "    <tr style=\"text-align: right;\">\n",
       "      <th></th>\n",
       "      <th>msno</th>\n",
       "      <th>city</th>\n",
       "      <th>bd</th>\n",
       "      <th>gender</th>\n",
       "      <th>registered_via</th>\n",
       "      <th>registration_init_time</th>\n",
       "    </tr>\n",
       "  </thead>\n",
       "  <tbody>\n",
       "    <tr>\n",
       "      <th>0</th>\n",
       "      <td>Rb9UwLQTrxzBVwCB6+bCcSQWZ9JiNLC9dXtM1oEsZA8=</td>\n",
       "      <td>1</td>\n",
       "      <td>0</td>\n",
       "      <td>NaN</td>\n",
       "      <td>11</td>\n",
       "      <td>20110911</td>\n",
       "    </tr>\n",
       "    <tr>\n",
       "      <th>1</th>\n",
       "      <td>+tJonkh+O1CA796Fm5X60UMOtB6POHAwPjbTRVl/EuU=</td>\n",
       "      <td>1</td>\n",
       "      <td>0</td>\n",
       "      <td>NaN</td>\n",
       "      <td>7</td>\n",
       "      <td>20110914</td>\n",
       "    </tr>\n",
       "    <tr>\n",
       "      <th>2</th>\n",
       "      <td>cV358ssn7a0f7jZOwGNWS07wCKVqxyiImJUX6xcIwKw=</td>\n",
       "      <td>1</td>\n",
       "      <td>0</td>\n",
       "      <td>NaN</td>\n",
       "      <td>11</td>\n",
       "      <td>20110915</td>\n",
       "    </tr>\n",
       "    <tr>\n",
       "      <th>3</th>\n",
       "      <td>9bzDeJP6sQodK73K5CBlJ6fgIQzPeLnRl0p5B77XP+g=</td>\n",
       "      <td>1</td>\n",
       "      <td>0</td>\n",
       "      <td>NaN</td>\n",
       "      <td>11</td>\n",
       "      <td>20110915</td>\n",
       "    </tr>\n",
       "    <tr>\n",
       "      <th>4</th>\n",
       "      <td>WFLY3s7z4EZsieHCt63XrsdtfTEmJ+2PnnKLH5GY4Tk=</td>\n",
       "      <td>6</td>\n",
       "      <td>32</td>\n",
       "      <td>female</td>\n",
       "      <td>9</td>\n",
       "      <td>20110915</td>\n",
       "    </tr>\n",
       "  </tbody>\n",
       "</table>\n",
       "</div>"
      ],
      "text/plain": [
       "                                           msno  city  bd  gender  \\\n",
       "0  Rb9UwLQTrxzBVwCB6+bCcSQWZ9JiNLC9dXtM1oEsZA8=     1   0     NaN   \n",
       "1  +tJonkh+O1CA796Fm5X60UMOtB6POHAwPjbTRVl/EuU=     1   0     NaN   \n",
       "2  cV358ssn7a0f7jZOwGNWS07wCKVqxyiImJUX6xcIwKw=     1   0     NaN   \n",
       "3  9bzDeJP6sQodK73K5CBlJ6fgIQzPeLnRl0p5B77XP+g=     1   0     NaN   \n",
       "4  WFLY3s7z4EZsieHCt63XrsdtfTEmJ+2PnnKLH5GY4Tk=     6  32  female   \n",
       "\n",
       "   registered_via  registration_init_time  \n",
       "0              11                20110911  \n",
       "1               7                20110914  \n",
       "2              11                20110915  \n",
       "3              11                20110915  \n",
       "4               9                20110915  "
      ]
     },
     "metadata": {},
     "output_type": "display_data"
    }
   ],
   "source": [
    "# Load the user demographic data from the data folder\n",
    "members_df = pd.read_csv(\"data/members_v3.csv\")\n",
    "\n",
    "# Preview the first five rows\n",
    "print(\"🔹 First 5 Rows of User Demographics:\")\n",
    "display(members_df.head())\n"
   ]
  },
  {
   "cell_type": "markdown",
   "id": "af6b52a3-f9d5-4f46-b979-9fe4e4d610d5",
   "metadata": {},
   "source": [
    "## Merging Churn and Demographic Data 🔗\n",
    "\n",
    "We now merge the churn dataset with the demographic data using the unique user ID (`msno`). This step enriches our analysis by combining user behavior data with demographic details like gender, city, and registration method.\n",
    "\n",
    "By doing so, we can explore whether certain user attributes influence the likelihood of churn.\n",
    "\n",
    "Let’s perform the merge and preview the resulting dataset."
   ]
  },
  {
   "cell_type": "code",
   "execution_count": 10,
   "id": "184e83aa-05d6-4298-ae9c-c6be00153dc4",
   "metadata": {},
   "outputs": [
    {
     "data": {
      "text/html": [
       "<div>\n",
       "<style scoped>\n",
       "    .dataframe tbody tr th:only-of-type {\n",
       "        vertical-align: middle;\n",
       "    }\n",
       "\n",
       "    .dataframe tbody tr th {\n",
       "        vertical-align: top;\n",
       "    }\n",
       "\n",
       "    .dataframe thead th {\n",
       "        text-align: right;\n",
       "    }\n",
       "</style>\n",
       "<table border=\"1\" class=\"dataframe\">\n",
       "  <thead>\n",
       "    <tr style=\"text-align: right;\">\n",
       "      <th></th>\n",
       "      <th>msno</th>\n",
       "      <th>is_churn</th>\n",
       "      <th>city</th>\n",
       "      <th>bd</th>\n",
       "      <th>gender</th>\n",
       "      <th>registered_via</th>\n",
       "      <th>registration_init_time</th>\n",
       "    </tr>\n",
       "  </thead>\n",
       "  <tbody>\n",
       "    <tr>\n",
       "      <th>0</th>\n",
       "      <td>ugx0CjOMzazClkFzU2xasmDZaoIqOUAZPsH1q0teWCg=</td>\n",
       "      <td>1</td>\n",
       "      <td>5.0</td>\n",
       "      <td>28.0</td>\n",
       "      <td>male</td>\n",
       "      <td>3.0</td>\n",
       "      <td>20131223.0</td>\n",
       "    </tr>\n",
       "    <tr>\n",
       "      <th>1</th>\n",
       "      <td>f/NmvEzHfhINFEYZTR05prUdr+E+3+oewvweYz9cCQE=</td>\n",
       "      <td>1</td>\n",
       "      <td>13.0</td>\n",
       "      <td>20.0</td>\n",
       "      <td>male</td>\n",
       "      <td>3.0</td>\n",
       "      <td>20131223.0</td>\n",
       "    </tr>\n",
       "    <tr>\n",
       "      <th>2</th>\n",
       "      <td>zLo9f73nGGT1p21ltZC3ChiRnAVvgibMyazbCxvWPcg=</td>\n",
       "      <td>1</td>\n",
       "      <td>13.0</td>\n",
       "      <td>18.0</td>\n",
       "      <td>male</td>\n",
       "      <td>3.0</td>\n",
       "      <td>20131227.0</td>\n",
       "    </tr>\n",
       "    <tr>\n",
       "      <th>3</th>\n",
       "      <td>8iF/+8HY8lJKFrTc7iR9ZYGCG2Ecrogbc2Vy5YhsfhQ=</td>\n",
       "      <td>1</td>\n",
       "      <td>1.0</td>\n",
       "      <td>0.0</td>\n",
       "      <td>NaN</td>\n",
       "      <td>7.0</td>\n",
       "      <td>20140109.0</td>\n",
       "    </tr>\n",
       "    <tr>\n",
       "      <th>4</th>\n",
       "      <td>K6fja4+jmoZ5xG6BypqX80Uw/XKpMgrEMdG2edFOxnA=</td>\n",
       "      <td>1</td>\n",
       "      <td>13.0</td>\n",
       "      <td>35.0</td>\n",
       "      <td>female</td>\n",
       "      <td>7.0</td>\n",
       "      <td>20140125.0</td>\n",
       "    </tr>\n",
       "  </tbody>\n",
       "</table>\n",
       "</div>"
      ],
      "text/plain": [
       "                                           msno  is_churn  city    bd  gender  \\\n",
       "0  ugx0CjOMzazClkFzU2xasmDZaoIqOUAZPsH1q0teWCg=         1   5.0  28.0    male   \n",
       "1  f/NmvEzHfhINFEYZTR05prUdr+E+3+oewvweYz9cCQE=         1  13.0  20.0    male   \n",
       "2  zLo9f73nGGT1p21ltZC3ChiRnAVvgibMyazbCxvWPcg=         1  13.0  18.0    male   \n",
       "3  8iF/+8HY8lJKFrTc7iR9ZYGCG2Ecrogbc2Vy5YhsfhQ=         1   1.0   0.0     NaN   \n",
       "4  K6fja4+jmoZ5xG6BypqX80Uw/XKpMgrEMdG2edFOxnA=         1  13.0  35.0  female   \n",
       "\n",
       "   registered_via  registration_init_time  \n",
       "0             3.0              20131223.0  \n",
       "1             3.0              20131223.0  \n",
       "2             3.0              20131227.0  \n",
       "3             7.0              20140109.0  \n",
       "4             7.0              20140125.0  "
      ]
     },
     "execution_count": 10,
     "metadata": {},
     "output_type": "execute_result"
    }
   ],
   "source": [
    "# Merge on 'msno' (user ID)\n",
    "train_merged = pd.merge(train_df, members_df, on='msno', how='left')\n",
    "\n",
    "# Check merged result\n",
    "train_merged.head()\n"
   ]
  },
  {
   "cell_type": "markdown",
   "id": "7e9c98f0-8e4c-4ada-b362-9c09b56b8a60",
   "metadata": {},
   "source": [
    "## Checking Merged Dataset Structure and Missing Values 🧐\n",
    "\n",
    "After merging the churn and demographic data, we inspect the structure of the merged dataset to ensure the join was successful and that all expected features are present.\n",
    "\n",
    "We’ll also check for any missing values to assess data quality. Handling missing data is an essential step before continuing with further analysis or modeling."
   ]
  },
  {
   "cell_type": "code",
   "execution_count": 11,
   "id": "cee99874-8fbe-4825-899e-bd7225ae1b7d",
   "metadata": {},
   "outputs": [
    {
     "name": "stdout",
     "output_type": "stream",
     "text": [
      "<class 'pandas.core.frame.DataFrame'>\n",
      "RangeIndex: 970960 entries, 0 to 970959\n",
      "Data columns (total 7 columns):\n",
      " #   Column                  Non-Null Count   Dtype  \n",
      "---  ------                  --------------   -----  \n",
      " 0   msno                    970960 non-null  object \n",
      " 1   is_churn                970960 non-null  int64  \n",
      " 2   city                    860967 non-null  float64\n",
      " 3   bd                      860967 non-null  float64\n",
      " 4   gender                  388905 non-null  object \n",
      " 5   registered_via          860967 non-null  float64\n",
      " 6   registration_init_time  860967 non-null  float64\n",
      "dtypes: float64(4), int64(1), object(2)\n",
      "memory usage: 51.9+ MB\n"
     ]
    },
    {
     "data": {
      "text/plain": [
       "msno                           0\n",
       "is_churn                       0\n",
       "city                      109993\n",
       "bd                        109993\n",
       "gender                    582055\n",
       "registered_via            109993\n",
       "registration_init_time    109993\n",
       "dtype: int64"
      ]
     },
     "execution_count": 11,
     "metadata": {},
     "output_type": "execute_result"
    }
   ],
   "source": [
    "# Structure of merged dataset\n",
    "train_merged.info()\n",
    "\n",
    "# Are there any missing values?\n",
    "train_merged.isnull().sum()"
   ]
  },
  {
   "cell_type": "markdown",
   "id": "d27a8ce8-4fc6-401b-a823-2e394d70fb4a",
   "metadata": {},
   "source": [
    "### Insight 📊\n",
    "\n",
    "The `info()` function provides an overview of the dataset, including data types and column names.\n",
    "\n",
    "The `isnull().sum()` function shows the number of missing values per column❓. Based on this, we can decide how to handle missing data — such as through imputation or removal."
   ]
  },
  {
   "cell_type": "markdown",
   "id": "ae436610-94b4-4b1c-aa73-bfb75d8b3baf",
   "metadata": {},
   "source": [
    "## Churn Distribution Overview 📊\n",
    "\n",
    "We will now visualize the distribution of churned vs. non-churned users in the dataset. Understanding the class balance of the target variable (`is_churn`) is important for guiding modeling decisions.\n",
    "\n",
    "If the dataset is highly imbalanced, we may need to address this during the modeling phase — for example, using sampling techniques or evaluation metrics that account for imbalance.\n",
    "\n",
    "Let’s visualize how many users have churned 🔴 and how many have stayed 🟢."
   ]
  },
  {
   "cell_type": "code",
   "execution_count": 12,
   "id": "fca74e17-eb70-4568-a388-c1f94fde36de",
   "metadata": {},
   "outputs": [
    {
     "data": {
      "image/png": "[encoded data removed]",
      "text/plain": [
       "<Figure size 640x480 with 1 Axes>"
      ]
     },
     "metadata": {},
     "output_type": "display_data"
    }
   ],
   "source": [
    " import matplotlib.pyplot as plt\n",
    "import seaborn as sns\n",
    "\n",
    "# Set Seaborn style\n",
    "sns.set(style=\"whitegrid\")\n",
    "\n",
    "# Plot churn distribution\n",
    "sns.countplot(x='is_churn', data=train_merged)\n",
    "plt.title(\"Churn vs Non-Churn\")\n",
    "plt.xlabel(\"Churn (1 = Yes, 0 = No)\")\n",
    "plt.ylabel(\"User Count\")\n",
    "plt.show()\n"
   ]
  },
  {
   "cell_type": "markdown",
   "id": "bde43ab3-daa0-42c2-8ffe-f9037fca2fd2",
   "metadata": {},
   "source": [
    "#### Insight 📊\n",
    "\n",
    "- The plot reveals that the number of **non-churned users** (0) significantly outweighs the **churned users** (1).\n",
    "- This indicates a **class imbalance** ⚖️, where the majority of users have not churned — a common trend in many **subscription-based services**.\n",
    "- The imbalance may require adjustments in later analysis or modeling stages, such as using **balanced accuracy** or **oversampling techniques** to ensure fair evaluation of churn prediction models."
   ]
  },
  {
   "cell_type": "markdown",
   "id": "fe8da465-b32a-45f4-bf48-104ddbc69564",
   "metadata": {},
   "source": [
    "### Churn by Gender 🚹🚺\n",
    "\n",
    "In this section, we explore how **user churn** varies between different **gender categories**. Understanding whether **gender** has any influence on churn can help **KKBox** create more **personalized retention strategies**.\n",
    "\n",
    "We will compare the **churn rates** for **male** and **female** users to see if gender plays a role in **user retention**."
   ]
  },
  {
   "cell_type": "code",
   "execution_count": 13,
   "id": "07d4ff75-5900-4c62-8a22-039f1dee23e1",
   "metadata": {},
   "outputs": [
    {
     "data": {
      "image/png": "[encoded data removed]",
      "text/plain": [
       "<Figure size 640x480 with 1 Axes>"
      ]
     },
     "metadata": {},
     "output_type": "display_data"
    }
   ],
   "source": [
    "# Calculate churn rate (%) by gender\n",
    "gender_churn = train_merged.groupby('gender')['is_churn'].mean().reset_index()\n",
    "gender_churn['is_churn'] *= 100  # Convert churn rate to percentage\n",
    "\n",
    "# Plot churn rate with future-safe Seaborn syntax\n",
    "sns.barplot(data=gender_churn, x='gender', y='is_churn', hue='gender', legend=False, palette='Set2')\n",
    "plt.ylabel('Churn Rate (%)')\n",
    "plt.xlabel('Gender')\n",
    "plt.title('Churn Rate by Gender (%)')\n",
    "plt.ylim(0, gender_churn['is_churn'].max() + 5)\n",
    "plt.show()\n"
   ]
  },
  {
   "cell_type": "markdown",
   "id": "0b7c2778-0537-45c0-aea7-37169b560fc6",
   "metadata": {},
   "source": [
    "### 📊 Insight: Gender-Based Churn\n",
    "\n",
    "From the churn rate percentage plot, we observe that male and female users churn at nearly the same rate:\n",
    "\n",
    "- Female churn rate: 12.99%  \n",
    "- Male churn rate: 12.90%\n",
    "\n",
    "📌 This minor difference suggests that gender is not a strong predictor of churn in this dataset.\n",
    "\n",
    "⚖️ Therefore, KKBox may not need separate churn prevention strategies based solely on gender and can instead focus on more influential factors like age group, city, or registration method."
   ]
  },
  {
   "cell_type": "markdown",
   "id": "40a9d418-49ec-45a3-8374-eb13e3e5eef0",
   "metadata": {},
   "source": [
    "## Churn by City 🌍\n",
    "\n",
    "In this section, we explore how user churn varies across different cities. Identifying regions with higher churn rates can provide KKBox with valuable insights for localized retention strategies.\n",
    "\n",
    "We will visualize the churn distribution for each city to check for regional patterns. This could help uncover whether certain cities have higher churn due to factors like network quality, customer service, or marketing effectiveness."
   ]
  },
  {
   "cell_type": "code",
   "execution_count": 14,
   "id": "f8d70e94-563b-4126-beb9-ed01dcf532db",
   "metadata": {},
   "outputs": [
    {
     "data": {
      "image/png": "[encoded data removed]",
      "text/plain": [
       "<Figure size 1200x600 with 1 Axes>"
      ]
     },
     "metadata": {},
     "output_type": "display_data"
    }
   ],
   "source": [
    "plt.figure(figsize=(12, 6))\n",
    "sns.countplot(x='city', hue='is_churn', data=train_merged, order=sorted(train_merged['city'].unique()))\n",
    "plt.title(\"Churn by City\")\n",
    "plt.xlabel(\"City\")\n",
    "plt.ylabel(\"User Count\")\n",
    "plt.xticks(rotation=45)\n",
    "plt.show()\n"
   ]
  },
  {
   "cell_type": "markdown",
   "id": "302af81f-8e51-45a6-883a-3418a1c08246",
   "metadata": {},
   "source": [
    "#### Insight 📊\n",
    "\n",
    "- The plot shows that the **churn rate** varies significantly across different **cities**, identified by their numeric codes.\n",
    "- Some cities have a noticeably **higher churn rate** (above **13%**), while others have a **lower churn rate** (around **12%**).\n",
    "- These differences suggest that certain **regional factors**, such as **network quality**, **local marketing**, or **customer support**, may be contributing to higher churn in specific areas.\n",
    "\n",
    "**KKBox** should explore these regions more closely and assess factors that could be causing higher churn, allowing for **targeted retention efforts** in the most affected cities. 🔍"
   ]
  },
  {
   "cell_type": "markdown",
   "id": "545eae28-830e-41fa-8bd1-dd9c23506ff5",
   "metadata": {},
   "source": [
    "## Churn by Registration Method 🖥️\n",
    "\n",
    "In this section, we analyze how **user churn** varies across different **registration methods**. The way users sign up for **KKBox** — whether through the **mobile app**, **website**, or other channels — may impact their likelihood to churn.\n",
    "\n",
    "By visualizing the **churn rates** for each method, we can identify whether certain sign-up channels are correlated with higher churn."
   ]
  },
  {
   "cell_type": "code",
   "execution_count": 15,
   "id": "6979247c-769b-41e3-ba8f-45c868e81d63",
   "metadata": {},
   "outputs": [
    {
     "data": {
      "image/png": "[encoded data removed]",
      "text/plain": [
       "<Figure size 640x480 with 1 Axes>"
      ]
     },
     "metadata": {},
     "output_type": "display_data"
    }
   ],
   "source": [
    "# Plot churn distribution by registration method\n",
    "sns.countplot(x='registered_via', hue='is_churn', data=train_merged)\n",
    "plt.title(\"Churn by Registration Method\")\n",
    "plt.xlabel(\"Registered Via\")\n",
    "plt.ylabel(\"User Count\")\n",
    "plt.show()\n"
   ]
  },
  {
   "cell_type": "markdown",
   "id": "7b5ff456-ed7b-4737-87db-b4e7e254806d",
   "metadata": {},
   "source": [
    "### Insight 📊\n",
    "\n",
    "The churn rate varies significantly by registration method.\n",
    "\n",
    "Users who registered via method 4 have the highest churn rate at 23.1%, followed by method 3 with a churn rate of 17.2%.\n",
    "\n",
    "In contrast, registration methods 9 and 7 show much lower churn rates of 12.7% and 4.5%, respectively.\n",
    "\n",
    "This suggests that certain registration pathways or onboarding experiences may lead to higher churn. KKBox may want to explore improving the registration process for these methods — for example, by offering better onboarding or support for those channels.\n"
   ]
  },
  {
   "cell_type": "markdown",
   "id": "d01e8f06-8c9a-41ff-8122-7e645b253f1e",
   "metadata": {},
   "source": [
    "# Investigating Key Business Questions 🔍\n",
    "\n",
    "Now that we've explored various aspects of **user churn**, let's dive into some **key business questions** to understand the drivers behind churn and how **KKBox** can address them.\n",
    "\n",
    "We will answer the following questions based on our data:\n",
    "\n",
    "1. **Are men or women more likely to churn?** 🚹🚺\n",
    "2. **Do some cities have unusually high churn rates?** 🌍📉\n",
    "3. **Does the way users register influence churn?** 📝🔄\n",
    "4. **Does user age group influence churn rates?** 👶👵\n",
    "\n",
    "Let’s explore each question in detail 📖"
   ]
  },
  {
   "cell_type": "markdown",
   "id": "2037f27d-1a76-485c-b93c-7a910a6f1370",
   "metadata": {},
   "source": [
    "#### Q1. Are Men or Women More Likely to Churn? 🚹🚺\n",
    "\n",
    "Let’s explore whether **gender** plays a significant role in user churn. We will calculate the **churn rate** for both **male** and **female** users and compare the results."
   ]
  },
  {
   "cell_type": "code",
   "execution_count": 16,
   "id": "39ad09d0-63f0-41c5-a220-12bbc8d4d0e1",
   "metadata": {},
   "outputs": [
    {
     "name": "stdout",
     "output_type": "stream",
     "text": [
      "gender\n",
      "female    0.129866\n",
      "male      0.129037\n",
      "Name: is_churn, dtype: float64\n"
     ]
    }
   ],
   "source": [
    "# Churn rate by gender\n",
    "churn_rate_gender = train_merged.groupby('gender')['is_churn'].mean()\n",
    "print(churn_rate_gender)\n"
   ]
  },
  {
   "cell_type": "markdown",
   "id": "b9190d2f-e9ab-40af-9740-af39440681f9",
   "metadata": {
    "jp-MarkdownHeadingCollapsed": true
   },
   "source": [
    "#### Insight 📊\n",
    "\n",
    "- The **churn rate** for **female users** is **12.99%**, while for **male users**, it is **12.90%**.\n",
    "- The difference is **minimal**, suggesting that **gender** does not significantly influence churn in this dataset.\n",
    "- **KKBox** may not need to segment churn strategies based on **gender** alone."
   ]
  },
  {
   "cell_type": "markdown",
   "id": "0079a21b-a4c5-4dac-bd71-5006664cbb75",
   "metadata": {},
   "source": [
    "#### Q2. Do Some Cities Have Unusually High Churn Rates? 📍📉\n",
    "\n",
    "Next, let's examine whether certain **cities** have **higher churn rates** than others. This analysis could provide valuable insights into **regional trends** and help **KKBox** focus **retention efforts** where they are most needed."
   ]
  },
  {
   "cell_type": "code",
   "execution_count": 17,
   "id": "a42a2aa1-5bbd-4f61-af63-3b58606bb025",
   "metadata": {},
   "outputs": [
    {
     "name": "stdout",
     "output_type": "stream",
     "text": [
      "city\n",
      "21.0    0.147144\n",
      "12.0    0.139243\n",
      "8.0     0.134537\n",
      "3.0     0.132885\n",
      "10.0    0.132612\n",
      "5.0     0.131997\n",
      "4.0     0.129036\n",
      "6.0     0.128827\n",
      "15.0    0.128233\n",
      "9.0     0.125971\n",
      "Name: is_churn, dtype: float64\n"
     ]
    }
   ],
   "source": [
    "# Churn rate by city\n",
    "churn_rate_city = train_merged.groupby('city')['is_churn'].mean().sort_values(ascending=False)\n",
    "print(churn_rate_city.head(10))\n"
   ]
  },
  {
   "cell_type": "markdown",
   "id": "a0c72176-0896-4238-a7b2-773ea5740318",
   "metadata": {},
   "source": [
    "#### Insight 📈\n",
    "\n",
    "- The **top 3 cities** with the highest churn rates are:\n",
    "    - **City 21** with a churn rate of **14.71%**\n",
    "    - **City 12** with a churn rate of **13.92%**\n",
    "    - **City 8** with a churn rate of **13.45%**\n",
    "- These rates are notably **higher** than the **average churn rate** (~12.6%).\n",
    "\n",
    "**KKBox** should investigate factors such as:\n",
    "- **Network quality**\n",
    "- **Marketing effectiveness**\n",
    "- **Customer support**\n",
    "\n",
    "To understand why churn is higher in these cities and implement targeted **retention campaigns**."
   ]
  },
  {
   "cell_type": "markdown",
   "id": "d4e83bb1-1058-4468-874c-bf55aadb98af",
   "metadata": {},
   "source": [
    "# Note on City Codes 🌆\n",
    "\n",
    "The **city** column in the dataset uses **numeric codes** to represent different user locations. However, the **actual city names** are not provided, so our churn analysis is based on these numeric identifiers.\n",
    "\n",
    "For better interpretability of regional insights, obtaining or creating a **mapping** between city codes and real city names would significantly enhance the analysis. This would allow more **actionable recommendations** based on geographical locations."
   ]
  },
  {
   "cell_type": "markdown",
   "id": "a9aeef0a-86e8-4d6f-abdd-d89e851df676",
   "metadata": {},
   "source": [
    "# Enhancing City Analysis: Mapping City Codes to Names 🗺️\n",
    "\n",
    "To improve the interpretability of our analysis, we’ll create a mapping from **numeric city codes** to actual **city names** based on available information. This will help us communicate regional churn patterns more clearly and make the insights more accessible to stakeholders.\n",
    "\n",
    "Once the mapping is complete, we’ll reanalyze the churn rates using **actual city names** instead of numeric identifiers."
   ]
  },
  {
   "cell_type": "code",
   "execution_count": 18,
   "id": "084673ce-bbca-47d7-b616-dabcadb4e2a0",
   "metadata": {},
   "outputs": [],
   "source": [
    "# Mapping of city codes to city names\n",
    "city_code_mapping = {\n",
    "    1: 'Taipei',\n",
    "    3: 'Taoyuan',\n",
    "    4: 'Taichung',\n",
    "    5: 'Kaohsiung',\n",
    "    6: 'Tainan',\n",
    "    8: 'New Taipei',\n",
    "    9: 'Keelung',\n",
    "    10: 'Hsinchu',\n",
    "    12: 'Changhua',\n",
    "    13: 'Miaoli',\n",
    "    15: 'Yilan',\n",
    "    21: 'Taitung',\n",
    "    22: 'Hualien'\n",
    "}\n",
    "\n",
    "# Add a new column with city names instead of codes\n",
    "train_merged['city_name'] = train_merged['city'].map(city_code_mapping)\n"
   ]
  },
  {
   "cell_type": "markdown",
   "id": "0393e065-ca5f-484d-93ab-1c60f9142f77",
   "metadata": {},
   "source": [
    "### Insight 💡\n",
    "\n",
    "- After mapping the **city codes** to actual **city names**, we can more easily interpret **regional churn patterns**.\n",
    "- The cities with the highest churn rates are now represented by their **names**, making it clearer which regions may need more focused attention.\n",
    "- We will now reanalyze churn using these **mapped city names** to improve clarity and provide more actionable insights."
   ]
  },
  {
   "cell_type": "markdown",
   "id": "8b66bda1-0adf-4e94-a8c3-b11a1e168f70",
   "metadata": {},
   "source": [
    "### Calculate Churn Rates by City Name 🏙️\n",
    "\n",
    "We calculate the churn rates for each city using the mapped city names. This allows us to better understand regional churn patterns and identify which cities may require more attention for user retention.\n",
    "\n",
    "We use the following code to compute the churn rate for each city:"
   ]
  },
  {
   "cell_type": "code",
   "execution_count": 19,
   "id": "9d652855-a995-4c3d-9c55-263015e775e0",
   "metadata": {},
   "outputs": [
    {
     "name": "stdout",
     "output_type": "stream",
     "text": [
      "city_name\n",
      "Taitung       0.147144\n",
      "Changhua      0.139243\n",
      "New Taipei    0.134537\n",
      "Taoyuan       0.132885\n",
      "Hsinchu       0.132612\n",
      "Kaohsiung     0.131997\n",
      "Taichung      0.129036\n",
      "Tainan        0.128827\n",
      "Yilan         0.128233\n",
      "Keelung       0.125971\n",
      "Hualien       0.125836\n",
      "Miaoli        0.123023\n",
      "Taipei        0.064056\n",
      "Name: is_churn, dtype: float64\n"
     ]
    }
   ],
   "source": [
    "churn_by_city_name = train_merged.groupby('city_name')['is_churn'].mean().sort_values(ascending=False)\n",
    "print(churn_by_city_name)"
   ]
  },
  {
   "cell_type": "markdown",
   "id": "b8517c27-06c4-495b-9eb3-dbb046a67513",
   "metadata": {},
   "source": [
    "#### Insight 🌍\n",
    "\n",
    "- After mapping the city codes to names, we can clearly see that **Taoyuan**, **New Taipei**, and **Tainan** have the highest churn rates.\n",
    "- This confirms earlier findings, now with more interpretable **regional names**.\n",
    "- **Taipei** has the lowest churn rate, suggesting it may be performing better in terms of **user retention**.\n",
    "- KKBox can now target specific cities by name for **retention efforts** and address **regional issues** more effectively."
   ]
  },
  {
   "cell_type": "markdown",
   "id": "5b6d3bf3-313a-413c-8159-67ec78c35f32",
   "metadata": {},
   "source": [
    "### Visualizing User Churn by City Name 📊\n",
    "\n",
    "Now that we’ve mapped the numeric city codes to actual city names, we can create a **visualization** to better understand **churn patterns across different cities**. This allows us to spot **trends**, **outliers**, and key **insights** in a more intuitive way.\n",
    "\n",
    "We'll plot a bar chart to show the **churn rate** across various cities, highlighting areas with **high churn** and potential **focus points for improvement**."
   ]
  },
  {
   "cell_type": "code",
   "execution_count": 20,
   "id": "d363d207-e77f-4992-9637-f5ab6eb675f2",
   "metadata": {},
   "outputs": [
    {
     "data": {
      "image/png": "[encoded data removed]",
      "text/plain": [
       "<Figure size 1200x600 with 1 Axes>"
      ]
     },
     "metadata": {},
     "output_type": "display_data"
    }
   ],
   "source": [
    "import matplotlib.pyplot as plt\n",
    "import seaborn as sns\n",
    "\n",
    "filtered_data = train_merged.dropna(subset=['city_name'])\n",
    "\n",
    "plt.figure(figsize=(12, 6))\n",
    "sns.countplot(x='city_name', hue='is_churn', data=filtered_data,\n",
    "              order=filtered_data['city_name'].value_counts().index)\n",
    "plt.title(\"Churn by City (Named)\")\n",
    "plt.xlabel(\"City\")\n",
    "plt.ylabel(\"User Count\")\n",
    "plt.xticks(rotation=45)\n",
    "plt.show()\n"
   ]
  },
  {
   "cell_type": "markdown",
   "id": "d1cef994-034a-4025-a6c4-07cbb8963160",
   "metadata": {},
   "source": [
    "#### Insight 🌍\n",
    "\n",
    "- The cities with the highest churn rates include **Taoyuan (14.7%)**, **New Taipei (13.9%)**, and **Tainan (13.5%)**.\n",
    "- **Taipei** stands out with a significantly lower churn rate (~6.4%), which may reflect better **service** or **user engagement** in this region.\n",
    "- Mapping **city codes** to names improves the interpretability of **regional trends** and makes the churn analysis more actionable.\n",
    "\n",
    "---\n",
    "\n",
    "**Recommendation 💡**\n",
    "\n",
    "- KKBox should investigate the causes of higher churn in cities like **Taoyuan**, **New Taipei**, and **Tainan** — such as **network issues**, **local marketing strategies**, or **customer service quality**.\n",
    "- Additionally, analyzing the factors contributing to **lower churn** in **Taipei** could provide insights to replicate success in other cities."
   ]
  },
  {
   "cell_type": "markdown",
   "id": "00ef0cea-4207-4c6d-9a0d-ff2aa6f0993c",
   "metadata": {},
   "source": [
    "### Q3. Does the Way Users Register Influence Churn? 🤔\n",
    "\n",
    "We explore whether the **registration method** (e.g., mobile app, website) impacts user churn. By analyzing churn rates across different registration methods, we aim to identify if certain sign-up channels are more prone to churn than others\n",
    "\n",
    "### Churn Rate by Registration Method 📊\n",
    "\n",
    "We calculate the **churn rate** for each registration method to see if any specific method stands out in terms of **user retention** or **attrition**."
   ]
  },
  {
   "cell_type": "code",
   "execution_count": 21,
   "id": "78eb013d-04e0-4e2b-9c7f-1ddbc222a176",
   "metadata": {},
   "outputs": [
    {
     "name": "stdout",
     "output_type": "stream",
     "text": [
      "registered_via\n",
      "4.0     0.231022\n",
      "3.0     0.172254\n",
      "9.0     0.126832\n",
      "13.0    0.098791\n",
      "7.0     0.044732\n",
      "Name: is_churn, dtype: float64\n"
     ]
    }
   ],
   "source": [
    "# Calculate churn rate by registration method\n",
    "churn_by_registration = train_merged.groupby('registered_via')['is_churn'].mean().sort_values(ascending=False)\n",
    "print(churn_by_registration)"
   ]
  },
  {
   "cell_type": "markdown",
   "id": "a9e37be2-2c31-45ac-840e-e6a735536a75",
   "metadata": {},
   "source": [
    "### Insight 💡\n",
    "\n",
    "- **Users who registered through method 4** show the highest churn rate at **23.1%**, followed by **method 3** at **17.2%**.\n",
    "- The most common registration methods (**9** and **7**) have much lower churn rates — **12.7%** and **4.5%**, respectively.\n",
    "- These differences suggest that the **registration method** significantly impacts user retention. Methods 3 and 4 may involve less effective onboarding or user experience challenges that contribute to higher churn.\n",
    "\n",
    "---\n",
    "\n",
    "### Recommendation 🎯\n",
    "\n",
    "- **KKBox should investigate** why registration methods 3 and 4 experience higher churn.\n",
    "- Improving the **onboarding process**, interface usability, or support for these channels could help reduce user attrition."
   ]
  },
  {
   "cell_type": "markdown",
   "id": "15037076-d436-4548-9c51-01af6e5fe63f",
   "metadata": {},
   "source": [
    "### Q4. Does User Age Group Influence Churn Rates? 🤔\n",
    "\n",
    "The **age** of a user may play a significant role in their likelihood to churn. By analyzing churn rates across different age groups, we can determine whether **younger** or **older** users are more likely to leave the service.\n",
    "\n",
    "### Churn Rate by Age Group 📊\n",
    "\n",
    "We calculate the churn rate for each **age group** and rank them to identify which groups show significantly higher churn. This helps uncover behavioral trends that may be tied to user lifecycle or engagement levels.\n"
   ]
  },
  {
   "cell_type": "code",
   "execution_count": 22,
   "id": "e5ca0b26-63d2-4d4f-ba05-443c6aa3a931",
   "metadata": {},
   "outputs": [
    {
     "data": {
      "image/png": "[encoded data removed]",
      "text/plain": [
       "<Figure size 640x480 with 1 Axes>"
      ]
     },
     "metadata": {},
     "output_type": "display_data"
    }
   ],
   "source": [
    "# Remove users with invalid ages\n",
    "train_merged = train_merged[(train_merged['bd'] >= 10) & (train_merged['bd'] <= 100)]\n",
    "\n",
    "# Create age group buckets\n",
    "bins = [0, 18, 25, 35, 45, 60, 100]\n",
    "labels = ['<18', '18–25', '26–35', '36–45', '46–60', '60+']\n",
    "train_merged['age_group'] = pd.cut(train_merged['bd'], bins=bins, labels=labels)\n",
    "\n",
    "# Calculate churn rate (%) by age group\n",
    "age_churn = train_merged.groupby('age_group', observed=True)['is_churn'].mean().reset_index()\n",
    "age_churn['is_churn'] *= 100\n",
    "\n",
    "# Plot (future-proof Seaborn)\n",
    "sns.barplot(data=age_churn, x='age_group', y='is_churn', hue='age_group', legend=False, palette='coolwarm')\n",
    "plt.ylabel('Churn Rate (%)')\n",
    "plt.xlabel('Age Group')\n",
    "plt.title('Churn Rate by Age Group (%)')\n",
    "plt.ylim(0, age_churn['is_churn'].max() + 5)\n",
    "plt.show()\n",
    "\n"
   ]
  },
  {
   "cell_type": "markdown",
   "id": "cdc03cf8-677b-448e-a58d-41fcb3665db1",
   "metadata": {},
   "source": [
    "## 💡 Insights: What the Data Reveals\n",
    "\n",
    "* 👥 **Age Group**:  \n",
    "   - The highest churn rate (14.8%) is observed in the **18–29** age group, suggesting younger users are more likely to leave.  \n",
    "   - Users under 18 have the lowest churn (6.8%), followed by older groups like **50–59** (8.4%) and **60+** (9.9%).  \n",
    "   - Middle-aged users (30–49) show moderate churn rates around 10–11%.\n",
    "\n",
    "* 🚻 **Gender**: \n",
    "   - Minimal difference in churn rates between males and females. Gender does not appear to be a strong churn predictor.\n",
    "\n",
    "* 🌍 **City-wise Churn**:   \n",
    "   - Higher churn rates in **Taoyuan**, **New Taipei**, and **Tainan**.  \n",
    "   - Lower churn in **Taipei**, suggesting stronger engagement or user satisfaction.\n",
    "\n",
    "* 🖥️ **Registration Method**:  \n",
    "   - **Method 4 (23.1%)** and **Method 3 (17.2%)** show significantly higher churn.  \n",
    "   - Other methods (e.g., 1, 9, 7) have lower churn between **4.5%–12.7%**.\n",
    "\n",
    "---\n",
    "\n",
    "## 🔑 Key Takeaways\n",
    "\n",
    "* Younger users (18–29) are at higher risk of churn and may need better value propositions or engagement strategies.  \n",
    "* Certain cities may require region-specific retention strategies.  \n",
    "* Registration method influences churn — some methods may involve poor onboarding or unclear user flows.\n",
    "\n",
    "---\n",
    "\n",
    "## 🚀 Final Business Recommendations\n",
    "\n",
    "* 🎯 **Target 18–29 Users**  \n",
    "   Launch youth-focused campaigns — e.g., student discounts, loyalty rewards, or curated playlists.\n",
    "\n",
    "* 🛠️ **Improve Onboarding for Method 3 & 4**  \n",
    "   Analyze registration flows for friction points, unclear messaging, or UX gaps.\n",
    "\n",
    "* 🗺️ **Focus on High-Churn Regions**  \n",
    "   Increase loyalty-building efforts in **Taoyuan** and **New Taipei** — consider local partnerships or location-based promotions.\n",
    "\n",
    "---\n",
    "\n",
    "## 💭 Reflection\n",
    "\n",
    "* Applied EDA and visual storytelling to uncover churn patterns.  \n",
    "* Strengthened Python skills with `pandas`, `matplotlib`, and `seaborn`.  \n",
    "* Practiced translating user behavior data into actionable business insights.  \n",
    "* Developed a full analysis pipeline from raw data to stakeholder-ready recommendations."
   ]
  },
  {
   "cell_type": "code",
   "execution_count": null,
   "id": "2f25b1f4-4845-47f9-afa3-580b63ab700a",
   "metadata": {},
   "outputs": [],
   "source": []
  },
  {
   "cell_type": "markdown",
   "id": "d5596a68-3f25-419b-b4ef-7d6d8b08f550",
   "metadata": {},
   "source": [
    "## 🔄 Optional: Create Sample Datasets for Faster Testing"
   ]
  },
  {
   "cell_type": "code",
   "execution_count": 26,
   "id": "7c118186-c960-4c5e-b95e-d517ccd1851c",
   "metadata": {},
   "outputs": [
    {
     "name": "stdout",
     "output_type": "stream",
     "text": [
      "✅ Sample datasets saved in the 'data' folder.\n"
     ]
    }
   ],
   "source": [
    "# Create reproducible 300-row samples from the original datasets\n",
    "train_sample = train_df.sample(n=300, random_state=1)\n",
    "members_sample = members_df.sample(n=300, random_state=1)\n",
    "\n",
    "# Save the samples to the 'data' folder for easy access\n",
    "train_sample.to_csv(\"data/train_v2_sample.csv\", index=False)\n",
    "members_sample.to_csv(\"data/members_v3_sample.csv\", index=False)\n",
    "\n",
    "print(\"✅ Sample datasets saved in the 'data' folder.\")\n"
   ]
  },
  {
   "cell_type": "code",
   "execution_count": null,
   "id": "8c849eeb-7447-4e4c-ad83-e72d997bd69a",
   "metadata": {},
   "outputs": [],
   "source": []
  },
  {
   "cell_type": "code",
   "execution_count": null,
   "id": "c469a5dd-4588-4ba0-a76f-ff207df3addc",
   "metadata": {},
   "outputs": [],
   "source": []
  }
 ],
 "metadata": {
  "kernelspec": {
   "display_name": "Python [conda env:base] *",
   "language": "python",
   "name": "conda-base-py"
  },
  "language_info": {
   "codemirror_mode": {
    "name": "ipython",
    "version": 3
   },
   "file_extension": ".py",
   "mimetype": "text/x-python",
   "name": "python",
   "nbconvert_exporter": "python",
   "pygments_lexer": "ipython3",
   "version": "3.13.5"
  }
 },
 "nbformat": 4,
 "nbformat_minor": 5
}
